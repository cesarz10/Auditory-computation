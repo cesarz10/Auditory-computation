{
 "cells": [
  {
   "cell_type": "code",
   "execution_count": null,
   "metadata": {},
   "outputs": [],
   "source": [
    "#Load in necessary modules and packages.\n",
    "#%pip install sounddevice\n",
    "%pip install tensorflow\n",
    "%pip install keras\n",
    "\n",
    "import os\n",
    "import numpy as np\n",
    "import scipy.io.wavfile as sio_wav\n",
    "import scipy.signal as sp_sig\n",
    "from filters import (erb_point,erb_space,centre_freqs,make_erb_filters,erb_filterbank,gammatone_analysis,pow_stft,hz2mel,mel2hz,mel_fb,mel_analysis)\n",
    "import matplotlib.pyplot as plt\n",
    "from scipy.fftpack import dct\n",
    "from signal_utils import *\n",
    "%matplotlib inline\n",
    "import sounddevice as sd\n",
    "import scipy.io\n",
    "from scipy import signal\n",
    "import keras\n",
    "from keras.models import model_from_json\n",
    "# from keras.utils import CustomObjectScope\n",
    "from keras.initializers import glorot_uniform\n",
    "from helper_ops import *\n",
    "import warnings\n",
    "warnings.filterwarnings(\"ignore\")\n",
    "print(\"Done!\")"
   ]
  },
  {
   "cell_type": "code",
   "execution_count": 3,
   "metadata": {
    "scrolled": false
   },
   "outputs": [
    {
     "ename": "NameError",
     "evalue": "name 'model_from_json' is not defined",
     "output_type": "error",
     "traceback": [
      "\u001b[1;31m---------------------------------------------------------------------------\u001b[0m",
      "\u001b[1;31mNameError\u001b[0m                                 Traceback (most recent call last)",
      "Cell \u001b[1;32mIn[3], line 32\u001b[0m\n\u001b[0;32m     30\u001b[0m loaded_model_json \u001b[38;5;241m=\u001b[39m json_file\u001b[38;5;241m.\u001b[39mread()\n\u001b[0;32m     31\u001b[0m json_file\u001b[38;5;241m.\u001b[39mclose()\n\u001b[1;32m---> 32\u001b[0m connear \u001b[38;5;241m=\u001b[39m \u001b[43mmodel_from_json\u001b[49m(loaded_model_json)\n\u001b[0;32m     33\u001b[0m connear\u001b[38;5;241m.\u001b[39mload_weights(\u001b[38;5;124m\"\u001b[39m\u001b[38;5;124mconnear/Gmodel.h5\u001b[39m\u001b[38;5;124m\"\u001b[39m)\n\u001b[0;32m     34\u001b[0m connear\u001b[38;5;241m.\u001b[39msummary()\n",
      "\u001b[1;31mNameError\u001b[0m: name 'model_from_json' is not defined"
     ]
    }
   ],
   "source": [
    "#Main function to load the speech.\n",
    "#Sarah Verhulst, Deepak Baby, Arthur Van Den Broucke, UGent, 2021\n",
    "\n",
    "# General parameters\n",
    "L = 70. # specify the desired SPL of the input\n",
    "\n",
    "# read the wavfile\n",
    "fs, x = sio_wav.read('example.wav')\n",
    "\n",
    "# framelength_t=0.04\n",
    "# frameshift_t=0.01\n",
    "\n",
    "framelength_t = 0.025 # framelength in time = 25ms\n",
    "frameshift_t = 0.01 # frameshift in time = 10ms\n",
    "\n",
    "#cut some part out of it\n",
    "sample_duration = 1 #needs to be in seconds\n",
    "num_samples = int(sample_duration * fs)\n",
    "x = x[:num_samples]\n",
    "#adjust the SPL to the desired level\n",
    "x = adjust_spl(x, L)\n",
    "\n",
    "# parameters for gammatone analysis\n",
    "fmin = 50. #minimum frequency to be analyzed\n",
    "numbands = 64 #number of frequency bins\n",
    "\n",
    "#load in CoNNear model\n",
    "\n",
    "json_file = open(\"connear/Gmodel.json\", \"r\")\n",
    "loaded_model_json = json_file.read()\n",
    "json_file.close()\n",
    "connear = model_from_json(loaded_model_json)\n",
    "connear.load_weights(\"connear/Gmodel.h5\")\n",
    "connear.summary()\n",
    "\n",
    "# parameters for CoNNear features\n",
    "fs_nn = 20e3 # CoNNear requires 20kHz\n",
    "\n",
    "#%%\n",
    "# Generate Mel feats                     ---------   MEL -----------\n",
    "framelength = int(framelength_t * fs)\n",
    "frameshift = int(frameshift_t * fs)\n",
    "nfft = next_power_of_two(framelength)\n",
    "\n",
    "pspec = pow_stft(x, framelength, frameshift, nfft)\n",
    "mel_out = mel_analysis(x, fs, numbands, framelength, frameshift, nfft, fmin) # returns mel and cf\n",
    "\n",
    "#Generate mfcc                         ----------- MFCC -------------\n",
    "mel_feats = np.where(mel_out['mel'] == 0, np.finfo(float).eps, mel_out['mel'])  # Numerical Stability\n",
    "mel_feats = 20 * np.log10(mel_feats)  # dB\n",
    "numceps = 12 # number of mfcc coefficients\n",
    "mfcc = dct(mel_feats, type=2, axis=1, norm='ortho')[:, 1 : (numceps + 1)]\n",
    "mfcc = lifter_mfcc(mfcc)\n",
    "\n",
    "# Generate Gammatone features           --------------- GAMMATONE -----------\n",
    "gt_out = gammatone_analysis(x, fs, numbands, fmin)\n",
    "gt_cochleagram = cochleagram(gt_out['bmm'], framelength, frameshift)\n",
    "\n",
    "#Generate CoNNear features\n",
    "if fs != fs_nn :\n",
    "    print(\"Resampling signal to \" + str(fs_nn) + \" Hz\")\n",
    "    x_nn = sp_sig.resample_poly(x, fs_nn, fs)\n",
    "\n",
    "x_nn = np.expand_dims(x_nn, axis=0) #The CoNNear model needs an (1,x,1) input, hence expanding the dimensions\n",
    "x_nn = np.expand_dims(x_nn, axis=2)\n",
    "nn_out = connear.predict(x_nn)\n",
    "nn_out = nn_out[0,:,:]\n",
    "nn_cochleagram = cochleagram(nn_out.T, int(framelength_t * fs_nn), int(frameshift_t * fs_nn))\n",
    "\n",
    "#%%\n",
    "# Plot features\n",
    "plt.figure(1)\n",
    "plt.plot(x), plt.title(\"Input Waveform\")\n",
    "\n",
    "plt.figure(2)\n",
    "plt.imshow(20 * np.log10(np.flipud(pspec.T)), cmap='jet', aspect='auto')\n",
    "plt.title(\"Power STFT in dB\")\n",
    "plt.xlabel(\"Frame Number\")\n",
    "plt.ylabel(\"Filter Number\")\n",
    "\n",
    "plt.figure(3)\n",
    "plt.imshow(np.flipud(mel_feats.T), cmap='jet', aspect='auto')\n",
    "plt.title(\"Mel Spectrogram in dB\")\n",
    "plt.xlabel(\"Frame Number\")\n",
    "plt.ylabel(\"Filter Number\")\n",
    "\n",
    "plt.figure(4)\n",
    "plt.imshow(mfcc.T, cmap='jet', aspect='auto')\n",
    "plt.title(\"MFCC coefficients\")\n",
    "plt.xlabel(\"Frame Number\")\n",
    "plt.ylabel(\"Filter Number\")\n",
    "\n",
    "plt.figure(5)\n",
    "plt.imshow(20 * np.log10(gt_cochleagram), cmap='jet', aspect='auto')\n",
    "plt.title(\"Gammatone cochleagram in dB\")\n",
    "plt.xlabel(\"Frame Number\")\n",
    "plt.ylabel(\"Filter Number\")\n",
    "\n",
    "plt.figure(6)\n",
    "plt.imshow(20 * np.log10(nn_cochleagram), cmap='jet', aspect='auto')\n",
    "plt.title(\"CoNNear cochleagram in dB - based on CoNNear framework\")\n",
    "plt.xlabel(\"Frame Number\")\n",
    "plt.ylabel(\"Filter Number\")\n",
    "\n",
    "plt.show()\n"
   ]
  },
  {
   "cell_type": "code",
   "execution_count": 37,
   "metadata": {
    "scrolled": true
   },
   "outputs": [
    {
     "data": {
      "text/plain": [
       "Text(0.5, 1.0, 'Compating central frequencies')"
      ]
     },
     "execution_count": 37,
     "metadata": {},
     "output_type": "execute_result"
    },
    {
     "data": {
      "image/png": "[encoded data removed]",
      "text/plain": [
       "<Figure size 432x288 with 1 Axes>"
      ]
     },
     "metadata": {
      "needs_background": "light"
     },
     "output_type": "display_data"
    }
   ],
   "source": [
    "mel_cf = mel_out['cf']\n",
    "gt_cf = np.flip(gt_out['cf'])\n",
    "\n",
    "conn_cf = []\n",
    "with open('cf.txt') as f:\n",
    "    for line in f:\n",
    "        conn_cf.append(float(line))\n",
    "conn_cf = np.array(conn_cf) * 1000 # conn in kHz\n",
    "    \n",
    "plt.figure(1)\n",
    "plt.plot(mel_cf)\n",
    "plt.plot(gt_cf)\n",
    "plt.plot(conn_cf)\n",
    "plt.title(\"Compating central frequencies\")\n",
    "\n",
    "\n",
    "# What are the differences between the mel and gammatone frequency-per-band organization? \n",
    "# Are both scales logarithmically spaced?\n",
    "\n"
   ]
  },
  {
   "cell_type": "code",
   "execution_count": 39,
   "metadata": {},
   "outputs": [
    {
     "data": {
      "image/png": "[encoded data removed]",
      "text/plain": [
       "<Figure size 432x288 with 1 Axes>"
      ]
     },
     "metadata": {
      "needs_background": "light"
     },
     "output_type": "display_data"
    },
    {
     "data": {
      "image/png": "[encoded data removed]",
      "text/plain": [
       "<Figure size 432x288 with 1 Axes>"
      ]
     },
     "metadata": {
      "needs_background": "light"
     },
     "output_type": "display_data"
    },
    {
     "data": {
      "image/png": "[encoded data removed]",
      "text/plain": [
       "<Figure size 432x288 with 1 Axes>"
      ]
     },
     "metadata": {
      "needs_background": "light"
     },
     "output_type": "display_data"
    }
   ],
   "source": [
    "import sounddevice as sd #To play sound\n",
    "\n",
    "#Get the time-domain signal output of a specific Gammatone channel\n",
    "Nch,N = np.shape(gt_out['bmm'])\n",
    "t = np.arange(N) / fs\n",
    "\n",
    "#find the 1 kHz CH channel for the model\n",
    "Ch1k_gt = np.abs(gt_out['cf'] - 1000).argmin()\n",
    "\n",
    "gt = np.zeros((Nch, N)) #copy the data so we can work with it\n",
    "gt = gt_out['bmm'];\n",
    "\n",
    "N_nn,Nch_nn = np.shape(nn_out)\n",
    "nn = np.zeros((Nch_nn, N_nn)) #copy the data so we can work with it\n",
    "nn = nn_out;\n",
    "t_nn = np.arange(N_nn) / fs\n",
    "\n",
    "#get the 1kHz-CF time-domain signal vs energy signal in specific bins\n",
    "nn_1k = nn[:,79] #time domain signal nn\n",
    "gt_1k = gt[Ch1k_gt,:] #time domain signal gt\n",
    "egt_1k = gt_cochleagram[Ch1k_gt,:] #gt energy in 1-kHz channel, when used as preprocessing for Machine Hearing\n",
    "\n",
    "plt.figure()\n",
    "plt.plot(t_nn,nn_1k)\n",
    "plt.legend(['CoNNear at 1 kHz'])\n",
    "plt.figure()\n",
    "plt.plot(t,gt_1k)\n",
    "plt.legend(['GT at 1 kHz'])\n",
    "plt.show()\n",
    "\n",
    "#Now generate a time domain signal from the energetic signal by extrapolating\n",
    "n_repeat = int((frameshift_t *fs)) #check this framelength thin\n",
    "egt_1k_time = np.repeat(egt_1k, n_repeat)\n",
    "N = len(egt_1k_time)\n",
    "t_egt = np.arange(N) / fs\n",
    "\n",
    "plt.figure(7)\n",
    "plt.plot(t,gt_1k/max(gt_1k))\n",
    "plt.plot(t_egt,egt_1k_time/max(egt_1k_time))\n",
    "#plt.xlim((0.3, 0.6))\n",
    "plt.show()\n",
    "\n",
    "#sd.play(x,fs)\n",
    "sd.play(gt_1k, fs)\n",
    "\n",
    "#sd.play(egt_1k_time, fs)\n",
    "\n",
    "\n",
    "\n",
    "\n",
    "# Evaluate their influence on the energetic algorithm and sound.\n",
    "# Describe your observations.\n",
    "\n",
    "\n"
   ]
  },
  {
   "cell_type": "code",
   "execution_count": null,
   "metadata": {},
   "outputs": [],
   "source": []
  },
  {
   "cell_type": "code",
   "execution_count": null,
   "metadata": {},
   "outputs": [],
   "source": []
  }
 ],
 "metadata": {
  "kernelspec": {
   "display_name": "Python 3 (ipykernel)",
   "language": "python",
   "name": "python3"
  },
  "language_info": {
   "codemirror_mode": {
    "name": "ipython",
    "version": 3
   },
   "file_extension": ".py",
   "mimetype": "text/x-python",
   "name": "python",
   "nbconvert_exporter": "python",
   "pygments_lexer": "ipython3",
   "version": "3.10.10"
  }
 },
 "nbformat": 4,
 "nbformat_minor": 2
}
